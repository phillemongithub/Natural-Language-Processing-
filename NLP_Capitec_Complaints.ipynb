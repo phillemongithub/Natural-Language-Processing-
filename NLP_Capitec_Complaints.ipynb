{
 "cells": [
  {
   "cell_type": "markdown",
   "metadata": {},
   "source": [
    "# Loading libraries"
   ]
  },
  {
   "cell_type": "code",
   "execution_count": 180,
   "metadata": {},
   "outputs": [],
   "source": [
    "import pandas as pd\n",
    "import numpy as np\n",
    "import matplotlib.pyplot as plt\n",
    "import nltk as nk"
   ]
  },
  {
   "cell_type": "markdown",
   "metadata": {},
   "source": [
    "# Loading excel data containg a list of both complints and response"
   ]
  },
  {
   "cell_type": "code",
   "execution_count": 256,
   "metadata": {},
   "outputs": [
    {
     "data": {
      "text/html": [
       "<div>\n",
       "<style scoped>\n",
       "    .dataframe tbody tr th:only-of-type {\n",
       "        vertical-align: middle;\n",
       "    }\n",
       "\n",
       "    .dataframe tbody tr th {\n",
       "        vertical-align: top;\n",
       "    }\n",
       "\n",
       "    .dataframe thead th {\n",
       "        text-align: right;\n",
       "    }\n",
       "</style>\n",
       "<table border=\"1\" class=\"dataframe\">\n",
       "  <thead>\n",
       "    <tr style=\"text-align: right;\">\n",
       "      <th></th>\n",
       "      <th>0</th>\n",
       "    </tr>\n",
       "  </thead>\n",
       "  <tbody>\n",
       "    <tr>\n",
       "      <th>0</th>\n",
       "      <td>Ngwane Philani Excellent Hi I received R300 ye...</td>\n",
       "    </tr>\n",
       "    <tr>\n",
       "      <th>1</th>\n",
       "      <td>Capitec Bank Transfers to external banks takes...</td>\n",
       "    </tr>\n",
       "    <tr>\n",
       "      <th>2</th>\n",
       "      <td>Tebatso Matlou Hi I haven't deposited nothing ...</td>\n",
       "    </tr>\n",
       "    <tr>\n",
       "      <th>3</th>\n",
       "      <td>Capitec Bank Hi Tebatso, you can check your ba...</td>\n",
       "    </tr>\n",
       "    <tr>\n",
       "      <th>4</th>\n",
       "      <td>Xolisile Maxoli Mkhize When will it be possibl...</td>\n",
       "    </tr>\n",
       "  </tbody>\n",
       "</table>\n",
       "</div>"
      ],
      "text/plain": [
       "                                                   0\n",
       "0  Ngwane Philani Excellent Hi I received R300 ye...\n",
       "1  Capitec Bank Transfers to external banks takes...\n",
       "2  Tebatso Matlou Hi I haven't deposited nothing ...\n",
       "3  Capitec Bank Hi Tebatso, you can check your ba...\n",
       "4  Xolisile Maxoli Mkhize When will it be possibl..."
      ]
     },
     "execution_count": 256,
     "metadata": {},
     "output_type": "execute_result"
    }
   ],
   "source": [
    "df=pd.read_excel('/home/phillemon/Desktop/data1.xlsx', header=None, error_bad_lines=False, index_col=False)\n",
    "df.head()"
   ]
  },
  {
   "cell_type": "markdown",
   "metadata": {},
   "source": [
    "# Naming our data frame as quiries and rsponds"
   ]
  },
  {
   "cell_type": "code",
   "execution_count": 188,
   "metadata": {},
   "outputs": [
    {
     "data": {
      "text/html": [
       "<div>\n",
       "<style scoped>\n",
       "    .dataframe tbody tr th:only-of-type {\n",
       "        vertical-align: middle;\n",
       "    }\n",
       "\n",
       "    .dataframe tbody tr th {\n",
       "        vertical-align: top;\n",
       "    }\n",
       "\n",
       "    .dataframe thead th {\n",
       "        text-align: right;\n",
       "    }\n",
       "</style>\n",
       "<table border=\"1\" class=\"dataframe\">\n",
       "  <thead>\n",
       "    <tr style=\"text-align: right;\">\n",
       "      <th></th>\n",
       "      <th>quiries and responds</th>\n",
       "    </tr>\n",
       "  </thead>\n",
       "  <tbody>\n",
       "    <tr>\n",
       "      <th>0</th>\n",
       "      <td>Ngwane Philani Excellent Hi I received R300 ye...</td>\n",
       "    </tr>\n",
       "    <tr>\n",
       "      <th>1</th>\n",
       "      <td>Capitec Bank Transfers to external banks takes...</td>\n",
       "    </tr>\n",
       "  </tbody>\n",
       "</table>\n",
       "</div>"
      ],
      "text/plain": [
       "                                quiries and responds\n",
       "0  Ngwane Philani Excellent Hi I received R300 ye...\n",
       "1  Capitec Bank Transfers to external banks takes..."
      ]
     },
     "execution_count": 188,
     "metadata": {},
     "output_type": "execute_result"
    }
   ],
   "source": [
    "df.columns =['quiries and responds']\n",
    "df.head(2)"
   ]
  },
  {
   "cell_type": "markdown",
   "metadata": {},
   "source": [
    "# Showing capitec responds using startswith and naming it to response"
   ]
  },
  {
   "cell_type": "code",
   "execution_count": 189,
   "metadata": {},
   "outputs": [
    {
     "data": {
      "text/html": [
       "<div>\n",
       "<style scoped>\n",
       "    .dataframe tbody tr th:only-of-type {\n",
       "        vertical-align: middle;\n",
       "    }\n",
       "\n",
       "    .dataframe tbody tr th {\n",
       "        vertical-align: top;\n",
       "    }\n",
       "\n",
       "    .dataframe thead th {\n",
       "        text-align: right;\n",
       "    }\n",
       "</style>\n",
       "<table border=\"1\" class=\"dataframe\">\n",
       "  <thead>\n",
       "    <tr style=\"text-align: right;\">\n",
       "      <th></th>\n",
       "      <th>responds</th>\n",
       "    </tr>\n",
       "  </thead>\n",
       "  <tbody>\n",
       "    <tr>\n",
       "      <th>1</th>\n",
       "      <td>Capitec Bank Transfers to external banks takes...</td>\n",
       "    </tr>\n",
       "    <tr>\n",
       "      <th>3</th>\n",
       "      <td>Capitec Bank Hi Tebatso, you can check your ba...</td>\n",
       "    </tr>\n",
       "    <tr>\n",
       "      <th>5</th>\n",
       "      <td>Capitec Bank Hi Xolisile, all systems have bee...</td>\n",
       "    </tr>\n",
       "    <tr>\n",
       "      <th>7</th>\n",
       "      <td>Capitec Bank Awesome, thank you for letting us...</td>\n",
       "    </tr>\n",
       "    <tr>\n",
       "      <th>9</th>\n",
       "      <td>Capitec Bank Hi Khabonina, we are sorry to hea...</td>\n",
       "    </tr>\n",
       "  </tbody>\n",
       "</table>\n",
       "</div>"
      ],
      "text/plain": [
       "                                            responds\n",
       "1  Capitec Bank Transfers to external banks takes...\n",
       "3  Capitec Bank Hi Tebatso, you can check your ba...\n",
       "5  Capitec Bank Hi Xolisile, all systems have bee...\n",
       "7  Capitec Bank Awesome, thank you for letting us...\n",
       "9  Capitec Bank Hi Khabonina, we are sorry to hea..."
      ]
     },
     "execution_count": 189,
     "metadata": {},
     "output_type": "execute_result"
    }
   ],
   "source": [
    "df2=df['quiries and responds'].str.startswith(\"Capitec\", na=False)\n",
    "responds=df[df2]\n",
    "responds.columns=['responds']\n",
    "responds.head()"
   ]
  },
  {
   "cell_type": "markdown",
   "metadata": {},
   "source": [
    "# Showing customers complaints using startswith and naming it complints\n",
    "## using starts with to filter out capitec responds"
   ]
  },
  {
   "cell_type": "code",
   "execution_count": 193,
   "metadata": {},
   "outputs": [
    {
     "data": {
      "text/html": [
       "<div>\n",
       "<style scoped>\n",
       "    .dataframe tbody tr th:only-of-type {\n",
       "        vertical-align: middle;\n",
       "    }\n",
       "\n",
       "    .dataframe tbody tr th {\n",
       "        vertical-align: top;\n",
       "    }\n",
       "\n",
       "    .dataframe thead th {\n",
       "        text-align: right;\n",
       "    }\n",
       "</style>\n",
       "<table border=\"1\" class=\"dataframe\">\n",
       "  <thead>\n",
       "    <tr style=\"text-align: right;\">\n",
       "      <th></th>\n",
       "      <th>complaints</th>\n",
       "    </tr>\n",
       "  </thead>\n",
       "  <tbody>\n",
       "    <tr>\n",
       "      <th>0</th>\n",
       "      <td>Ngwane Philani Excellent Hi I received R300 ye...</td>\n",
       "    </tr>\n",
       "    <tr>\n",
       "      <th>2</th>\n",
       "      <td>Tebatso Matlou Hi I haven't deposited nothing ...</td>\n",
       "    </tr>\n",
       "    <tr>\n",
       "      <th>4</th>\n",
       "      <td>Xolisile Maxoli Mkhize When will it be possibl...</td>\n",
       "    </tr>\n",
       "    <tr>\n",
       "      <th>6</th>\n",
       "      <td>Daniel Belteshazzar I received R300 in my acco...</td>\n",
       "    </tr>\n",
       "  </tbody>\n",
       "</table>\n",
       "</div>"
      ],
      "text/plain": [
       "                                          complaints\n",
       "0  Ngwane Philani Excellent Hi I received R300 ye...\n",
       "2  Tebatso Matlou Hi I haven't deposited nothing ...\n",
       "4  Xolisile Maxoli Mkhize When will it be possibl...\n",
       "6  Daniel Belteshazzar I received R300 in my acco..."
      ]
     },
     "execution_count": 193,
     "metadata": {},
     "output_type": "execute_result"
    }
   ],
   "source": [
    "complaints=df[~df[\"quiries and responds\"].astype(str).str.startswith('Capitec')]\n",
    "complaints.columns=['complaints']\n",
    "complaints.head(4)"
   ]
  },
  {
   "cell_type": "markdown",
   "metadata": {},
   "source": [
    "# Checking the lenght of out complaints and responds data frames"
   ]
  },
  {
   "cell_type": "code",
   "execution_count": 85,
   "metadata": {},
   "outputs": [
    {
     "data": {
      "text/plain": [
       "(69, 69)"
      ]
     },
     "execution_count": 85,
     "metadata": {},
     "output_type": "execute_result"
    }
   ],
   "source": [
    "len(responds.index), len(complaints.index)"
   ]
  },
  {
   "cell_type": "markdown",
   "metadata": {},
   "source": [
    "# Combining the responds and complaint as one data frame"
   ]
  },
  {
   "cell_type": "code",
   "execution_count": 86,
   "metadata": {},
   "outputs": [],
   "source": [
    "Data= pd.concat([complaints, responds], join='outer', ignore_index=True, sort=True)"
   ]
  },
  {
   "cell_type": "code",
   "execution_count": 195,
   "metadata": {},
   "outputs": [
    {
     "data": {
      "text/html": [
       "<div>\n",
       "<style scoped>\n",
       "    .dataframe tbody tr th:only-of-type {\n",
       "        vertical-align: middle;\n",
       "    }\n",
       "\n",
       "    .dataframe tbody tr th {\n",
       "        vertical-align: top;\n",
       "    }\n",
       "\n",
       "    .dataframe thead th {\n",
       "        text-align: right;\n",
       "    }\n",
       "</style>\n",
       "<table border=\"1\" class=\"dataframe\">\n",
       "  <thead>\n",
       "    <tr style=\"text-align: right;\">\n",
       "      <th></th>\n",
       "      <th>complaints</th>\n",
       "      <th>responds</th>\n",
       "    </tr>\n",
       "  </thead>\n",
       "  <tbody>\n",
       "    <tr>\n",
       "      <th>0</th>\n",
       "      <td>Ngwane Philani Excellent Hi I received R300 ye...</td>\n",
       "      <td>NaN</td>\n",
       "    </tr>\n",
       "    <tr>\n",
       "      <th>1</th>\n",
       "      <td>Tebatso Matlou Hi I haven't deposited nothing ...</td>\n",
       "      <td>NaN</td>\n",
       "    </tr>\n",
       "  </tbody>\n",
       "</table>\n",
       "</div>"
      ],
      "text/plain": [
       "                                          complaints responds\n",
       "0  Ngwane Philani Excellent Hi I received R300 ye...      NaN\n",
       "1  Tebatso Matlou Hi I haven't deposited nothing ...      NaN"
      ]
     },
     "execution_count": 195,
     "metadata": {},
     "output_type": "execute_result"
    }
   ],
   "source": [
    "Data.head(2)"
   ]
  },
  {
   "cell_type": "code",
   "execution_count": 196,
   "metadata": {},
   "outputs": [
    {
     "data": {
      "text/html": [
       "<div>\n",
       "<style scoped>\n",
       "    .dataframe tbody tr th:only-of-type {\n",
       "        vertical-align: middle;\n",
       "    }\n",
       "\n",
       "    .dataframe tbody tr th {\n",
       "        vertical-align: top;\n",
       "    }\n",
       "\n",
       "    .dataframe thead th {\n",
       "        text-align: right;\n",
       "    }\n",
       "</style>\n",
       "<table border=\"1\" class=\"dataframe\">\n",
       "  <thead>\n",
       "    <tr style=\"text-align: right;\">\n",
       "      <th></th>\n",
       "      <th>complaints</th>\n",
       "      <th>responds</th>\n",
       "    </tr>\n",
       "  </thead>\n",
       "  <tbody>\n",
       "    <tr>\n",
       "      <th>136</th>\n",
       "      <td>NaN</td>\n",
       "      <td>Capitec Bank Hi Skhoh, please visit your neare...</td>\n",
       "    </tr>\n",
       "    <tr>\n",
       "      <th>137</th>\n",
       "      <td>NaN</td>\n",
       "      <td>Capitec Bank Hi Motlokoa, we would be happy to...</td>\n",
       "    </tr>\n",
       "  </tbody>\n",
       "</table>\n",
       "</div>"
      ],
      "text/plain": [
       "    complaints                                           responds\n",
       "136        NaN  Capitec Bank Hi Skhoh, please visit your neare...\n",
       "137        NaN  Capitec Bank Hi Motlokoa, we would be happy to..."
      ]
     },
     "execution_count": 196,
     "metadata": {},
     "output_type": "execute_result"
    }
   ],
   "source": [
    "Data.tail(2)"
   ]
  },
  {
   "cell_type": "markdown",
   "metadata": {},
   "source": [
    "# Saving as csv to filter out Not a Number (Nan) without removing important information"
   ]
  },
  {
   "cell_type": "code",
   "execution_count": null,
   "metadata": {},
   "outputs": [],
   "source": [
    "Data.to_csv(\"capitec complaints.csv\", encoding='utf-8')"
   ]
  },
  {
   "cell_type": "code",
   "execution_count": 99,
   "metadata": {},
   "outputs": [],
   "source": [
    "Capitec_Complaints=pd.read_excel(\"/home/phillemon/Desktop/capitec complaints.xlsx\")"
   ]
  },
  {
   "cell_type": "markdown",
   "metadata": {},
   "source": [
    "# Showing a clean data frame showing Complaints and bank responds "
   ]
  },
  {
   "cell_type": "code",
   "execution_count": 102,
   "metadata": {},
   "outputs": [
    {
     "data": {
      "text/html": [
       "<div>\n",
       "<style scoped>\n",
       "    .dataframe tbody tr th:only-of-type {\n",
       "        vertical-align: middle;\n",
       "    }\n",
       "\n",
       "    .dataframe tbody tr th {\n",
       "        vertical-align: top;\n",
       "    }\n",
       "\n",
       "    .dataframe thead th {\n",
       "        text-align: right;\n",
       "    }\n",
       "</style>\n",
       "<table border=\"1\" class=\"dataframe\">\n",
       "  <thead>\n",
       "    <tr style=\"text-align: right;\">\n",
       "      <th></th>\n",
       "      <th>Complaints</th>\n",
       "      <th>Bank Responds</th>\n",
       "    </tr>\n",
       "  </thead>\n",
       "  <tbody>\n",
       "    <tr>\n",
       "      <th>0</th>\n",
       "      <td>0,Ngwane Philani Excellent Hi I received R300 ...</td>\n",
       "      <td>69,,Capitec Bank Transfers to external banks t...</td>\n",
       "    </tr>\n",
       "    <tr>\n",
       "      <th>1</th>\n",
       "      <td>1,\"Tebatso Matlou Hi I haven't deposited nothi...</td>\n",
       "      <td>70,,\"Capitec Bank Hi Tebatso, you can check yo...</td>\n",
       "    </tr>\n",
       "    <tr>\n",
       "      <th>2</th>\n",
       "      <td>2,Xolisile Maxoli Mkhize When will it be possi...</td>\n",
       "      <td>71,,\"Capitec Bank Hi Xolisile, all systems hav...</td>\n",
       "    </tr>\n",
       "    <tr>\n",
       "      <th>3</th>\n",
       "      <td>3,Daniel Belteshazzar I received R300 in my ac...</td>\n",
       "      <td>72,,\"Capitec Bank Awesome, thank you for letti...</td>\n",
       "    </tr>\n",
       "    <tr>\n",
       "      <th>4</th>\n",
       "      <td>4,Khabonina Khabo Again during this time my so...</td>\n",
       "      <td>73,,\"Capitec Bank Hi Khabonina, we are sorry t...</td>\n",
       "    </tr>\n",
       "  </tbody>\n",
       "</table>\n",
       "</div>"
      ],
      "text/plain": [
       "                                          Complaints  \\\n",
       "0  0,Ngwane Philani Excellent Hi I received R300 ...   \n",
       "1  1,\"Tebatso Matlou Hi I haven't deposited nothi...   \n",
       "2  2,Xolisile Maxoli Mkhize When will it be possi...   \n",
       "3  3,Daniel Belteshazzar I received R300 in my ac...   \n",
       "4  4,Khabonina Khabo Again during this time my so...   \n",
       "\n",
       "                                       Bank Responds  \n",
       "0  69,,Capitec Bank Transfers to external banks t...  \n",
       "1  70,,\"Capitec Bank Hi Tebatso, you can check yo...  \n",
       "2  71,,\"Capitec Bank Hi Xolisile, all systems hav...  \n",
       "3  72,,\"Capitec Bank Awesome, thank you for letti...  \n",
       "4  73,,\"Capitec Bank Hi Khabonina, we are sorry t...  "
      ]
     },
     "execution_count": 102,
     "metadata": {},
     "output_type": "execute_result"
    }
   ],
   "source": [
    "Capitec_Complaints.head()"
   ]
  },
  {
   "cell_type": "markdown",
   "metadata": {},
   "source": [
    "# Cleaning Data (Complaints)"
   ]
  },
  {
   "cell_type": "code",
   "execution_count": 216,
   "metadata": {},
   "outputs": [
    {
     "name": "stdout",
     "output_type": "stream",
     "text": [
      "['Ngwane Philani Excellent Hi I received R300 yesterday around 6 but what Confuses me is that when I check my Bank balance it still the same as before the money was paid. Plz help me']\n"
     ]
    }
   ],
   "source": [
    "# converting to list \n",
    "Complaints_list = complaints[\"complaints\"].tolist() ;print(Complaints_list[:1])"
   ]
  },
  {
   "cell_type": "markdown",
   "metadata": {},
   "source": [
    "# Make text lower case"
   ]
  },
  {
   "cell_type": "code",
   "execution_count": 217,
   "metadata": {},
   "outputs": [],
   "source": [
    "# Apply a first round of text cleaning techniques\n",
    "import re\n",
    "import string\n",
    "new_clean_com=[]\n",
    "for i in Complaints_list:\n",
    "    '''Make text lowercase'''\n",
    "    text = i.lower()\n",
    "    new_clean_com.append(text)"
   ]
  },
  {
   "cell_type": "markdown",
   "metadata": {},
   "source": [
    "# Removing texts in square brackets"
   ]
  },
  {
   "cell_type": "code",
   "execution_count": 218,
   "metadata": {},
   "outputs": [],
   "source": [
    "new_clean_com1=[]\n",
    "for i in new_clean_com:\n",
    "    '''remove text in square brackets'''\n",
    "    text = re.sub('\\[.*?\\]','',i)\n",
    "    new_clean_com1.append(text)"
   ]
  },
  {
   "cell_type": "markdown",
   "metadata": {},
   "source": [
    "# Removing punctuation mark"
   ]
  },
  {
   "cell_type": "code",
   "execution_count": 219,
   "metadata": {},
   "outputs": [],
   "source": [
    "new_clean_com2=[]\n",
    "for i in new_clean_com1:\n",
    "    ''' remove punctuation'''\n",
    "    text = re.sub('[%s]' % re.escape(string.punctuation), '',i)\n",
    "    new_clean_com2.append(text)"
   ]
  },
  {
   "cell_type": "markdown",
   "metadata": {},
   "source": [
    "# Removing numbers and words containing numbers, Additional punctuations and some nonsensical texts"
   ]
  },
  {
   "cell_type": "code",
   "execution_count": 229,
   "metadata": {},
   "outputs": [],
   "source": [
    "\n",
    "new_clean_com3=[]\n",
    "for i in new_clean_com2:\n",
    "    '''# Removing numbers and words containing numbers, Additional punctuations and some nonsensical texts'''\n",
    "    text = re.sub('\\w*\\d\\w*', '', i)\n",
    "    new_clean_com3.append(text)"
   ]
  },
  {
   "cell_type": "code",
   "execution_count": 230,
   "metadata": {},
   "outputs": [],
   "source": [
    "\n",
    "new_clean_com4=[]\n",
    "for i in new_clean_com3:\n",
    "    '''remove words containing numbers.'''\n",
    "    text = re.sub('[‘’“”…]', '', i)\n",
    "    new_clean_com4.append(text)"
   ]
  },
  {
   "cell_type": "code",
   "execution_count": null,
   "metadata": {},
   "outputs": [],
   "source": []
  },
  {
   "cell_type": "code",
   "execution_count": 233,
   "metadata": {},
   "outputs": [],
   "source": [
    "\n",
    "new_clean_com5=[]\n",
    "for i in new_clean_com4:\n",
    "    '''remove words containing numbers.'''\n",
    "    text = re.sub('\\n', '', i)\n",
    "    new_clean_com5.append(text)"
   ]
  },
  {
   "cell_type": "markdown",
   "metadata": {},
   "source": [
    "# Clean updated dataframe"
   ]
  },
  {
   "cell_type": "code",
   "execution_count": 237,
   "metadata": {},
   "outputs": [],
   "source": [
    "\n",
    "\n",
    "# Let's take a look at the updated text\n",
    "data_clean = pd.DataFrame(new_clean_com5)"
   ]
  },
  {
   "cell_type": "code",
   "execution_count": 254,
   "metadata": {},
   "outputs": [],
   "source": [
    "data_clean.head(3)\n",
    "data_clean.columns=[\"Complaints\"]"
   ]
  },
  {
   "cell_type": "code",
   "execution_count": 255,
   "metadata": {},
   "outputs": [
    {
     "data": {
      "text/html": [
       "<div>\n",
       "<style scoped>\n",
       "    .dataframe tbody tr th:only-of-type {\n",
       "        vertical-align: middle;\n",
       "    }\n",
       "\n",
       "    .dataframe tbody tr th {\n",
       "        vertical-align: top;\n",
       "    }\n",
       "\n",
       "    .dataframe thead th {\n",
       "        text-align: right;\n",
       "    }\n",
       "</style>\n",
       "<table border=\"1\" class=\"dataframe\">\n",
       "  <thead>\n",
       "    <tr style=\"text-align: right;\">\n",
       "      <th></th>\n",
       "      <th>Complaints</th>\n",
       "    </tr>\n",
       "  </thead>\n",
       "  <tbody>\n",
       "    <tr>\n",
       "      <th>0</th>\n",
       "      <td>ngwane philani excellent hi i received  yester...</td>\n",
       "    </tr>\n",
       "    <tr>\n",
       "      <th>1</th>\n",
       "      <td>tebatso matlou hi i havent deposited nothing f...</td>\n",
       "    </tr>\n",
       "    <tr>\n",
       "      <th>2</th>\n",
       "      <td>xolisile maxoli mkhize when will it be possibl...</td>\n",
       "    </tr>\n",
       "    <tr>\n",
       "      <th>3</th>\n",
       "      <td>daniel belteshazzar i received  in my account ...</td>\n",
       "    </tr>\n",
       "    <tr>\n",
       "      <th>4</th>\n",
       "      <td>khabonina khabo again during this time my son ...</td>\n",
       "    </tr>\n",
       "    <tr>\n",
       "      <th>5</th>\n",
       "      <td>ikeraam daniels i am gutted and utterly disapp...</td>\n",
       "    </tr>\n",
       "    <tr>\n",
       "      <th>6</th>\n",
       "      <td>gugu lethu hi last month i withdraw money from...</td>\n",
       "    </tr>\n",
       "    <tr>\n",
       "      <th>7</th>\n",
       "      <td>simon moeketsi is it possible to reverse the d...</td>\n",
       "    </tr>\n",
       "    <tr>\n",
       "      <th>8</th>\n",
       "      <td>makaokuhle mapholoba i would like to open an c...</td>\n",
       "    </tr>\n",
       "    <tr>\n",
       "      <th>9</th>\n",
       "      <td>itumeleng motau two weeks ago i replaced my ca...</td>\n",
       "    </tr>\n",
       "    <tr>\n",
       "      <th>10</th>\n",
       "      <td>gadifele maureen hi i send money to someone wh...</td>\n",
       "    </tr>\n",
       "    <tr>\n",
       "      <th>11</th>\n",
       "      <td>theodore mabunda so now we dont deposit money ...</td>\n",
       "    </tr>\n",
       "    <tr>\n",
       "      <th>12</th>\n",
       "      <td>nolu ngxabazi can i change my fixed stop order...</td>\n",
       "    </tr>\n",
       "    <tr>\n",
       "      <th>13</th>\n",
       "      <td>remofilwe mokgatlhe what documents do i need t...</td>\n",
       "    </tr>\n",
       "    <tr>\n",
       "      <th>14</th>\n",
       "      <td>madelaine herbst what is your interest rate on...</td>\n",
       "    </tr>\n",
       "    <tr>\n",
       "      <th>15</th>\n",
       "      <td>sbongs v ngxongo pls capitec make sure you hav...</td>\n",
       "    </tr>\n",
       "    <tr>\n",
       "      <th>16</th>\n",
       "      <td>benedict sello tukula we have problems when we...</td>\n",
       "    </tr>\n",
       "    <tr>\n",
       "      <th>17</th>\n",
       "      <td>nozipho ziphow sibiya i have unauthorized debi...</td>\n",
       "    </tr>\n",
       "    <tr>\n",
       "      <th>18</th>\n",
       "      <td>sibongile dlamini good day yesterday around  s...</td>\n",
       "    </tr>\n",
       "    <tr>\n",
       "      <th>19</th>\n",
       "      <td>percy sledge ndlovu capitec bank is it  per tr...</td>\n",
       "    </tr>\n",
       "    <tr>\n",
       "      <th>20</th>\n",
       "      <td>onkgopotse monyatsi is it possible to pay mont...</td>\n",
       "    </tr>\n",
       "    <tr>\n",
       "      <th>21</th>\n",
       "      <td>size nkosi yeerr on sunday i withdrawn  rand i...</td>\n",
       "    </tr>\n",
       "    <tr>\n",
       "      <th>22</th>\n",
       "      <td>cizarh kamagatsheni mkhize i deposited money o...</td>\n",
       "    </tr>\n",
       "    <tr>\n",
       "      <th>23</th>\n",
       "      <td>palesa makhubele i have fixed account so if ne...</td>\n",
       "    </tr>\n",
       "    <tr>\n",
       "      <th>24</th>\n",
       "      <td>dineko mhlongo does capitec branch work on sunday</td>\n",
       "    </tr>\n",
       "    <tr>\n",
       "      <th>25</th>\n",
       "      <td>wayne lottering do you get notifications for a...</td>\n",
       "    </tr>\n",
       "    <tr>\n",
       "      <th>26</th>\n",
       "      <td>chris lotter capitec looks good on facebook un...</td>\n",
       "    </tr>\n",
       "    <tr>\n",
       "      <th>27</th>\n",
       "      <td>nceba mtshizana fixed deposit saving of   for ...</td>\n",
       "    </tr>\n",
       "    <tr>\n",
       "      <th>28</th>\n",
       "      <td>jabulani radebe your app is not responding and...</td>\n",
       "    </tr>\n",
       "    <tr>\n",
       "      <th>29</th>\n",
       "      <td>phumeza mezza mackiby capitec in malvern jhb h...</td>\n",
       "    </tr>\n",
       "    <tr>\n",
       "      <th>...</th>\n",
       "      <td>...</td>\n",
       "    </tr>\n",
       "    <tr>\n",
       "      <th>39</th>\n",
       "      <td>isabel sibanda i was using my app one of the d...</td>\n",
       "    </tr>\n",
       "    <tr>\n",
       "      <th>40</th>\n",
       "      <td>rachel ndlovu did foreign with permit allowed ...</td>\n",
       "    </tr>\n",
       "    <tr>\n",
       "      <th>41</th>\n",
       "      <td>veronica khumalo this bank those not do revers...</td>\n",
       "    </tr>\n",
       "    <tr>\n",
       "      <th>42</th>\n",
       "      <td>alfie legoba what is it anyway lazy money</td>\n",
       "    </tr>\n",
       "    <tr>\n",
       "      <th>43</th>\n",
       "      <td>siphiwe c msiza what is lazy money</td>\n",
       "    </tr>\n",
       "    <tr>\n",
       "      <th>44</th>\n",
       "      <td>ßlåq beltamo shärröll why capitac bank dont al...</td>\n",
       "    </tr>\n",
       "    <tr>\n",
       "      <th>45</th>\n",
       "      <td>svumile omhlophe kamahlobo wat tim are you clo...</td>\n",
       "    </tr>\n",
       "    <tr>\n",
       "      <th>46</th>\n",
       "      <td>phethile sambo i had send money from my sister...</td>\n",
       "    </tr>\n",
       "    <tr>\n",
       "      <th>47</th>\n",
       "      <td>nosi majalamba shezi please help me what must ...</td>\n",
       "    </tr>\n",
       "    <tr>\n",
       "      <th>48</th>\n",
       "      <td>nkosunaye ndlovu i took i loan via capitec and...</td>\n",
       "    </tr>\n",
       "    <tr>\n",
       "      <th>49</th>\n",
       "      <td>ivakele ivah hi i have been depositing money t...</td>\n",
       "    </tr>\n",
       "    <tr>\n",
       "      <th>50</th>\n",
       "      <td>nem oath help help help help</td>\n",
       "    </tr>\n",
       "    <tr>\n",
       "      <th>51</th>\n",
       "      <td>emma mohlala im no longer receive bank notific...</td>\n",
       "    </tr>\n",
       "    <tr>\n",
       "      <th>52</th>\n",
       "      <td>sphesihle m mngomezulu тoday ι тrιed тo do cel...</td>\n",
       "    </tr>\n",
       "    <tr>\n",
       "      <th>53</th>\n",
       "      <td>nodumo mbona please check your inbox</td>\n",
       "    </tr>\n",
       "    <tr>\n",
       "      <th>54</th>\n",
       "      <td>chris madier ke client ya capitec a ke kgona g...</td>\n",
       "    </tr>\n",
       "    <tr>\n",
       "      <th>55</th>\n",
       "      <td>thapelo mhlongo please fix your app😡😡</td>\n",
       "    </tr>\n",
       "    <tr>\n",
       "      <th>56</th>\n",
       "      <td>pierre bezuidenhout app is offline again</td>\n",
       "    </tr>\n",
       "    <tr>\n",
       "      <th>57</th>\n",
       "      <td>o zwe madoda izinja hi im zweli i was scammed ...</td>\n",
       "    </tr>\n",
       "    <tr>\n",
       "      <th>58</th>\n",
       "      <td>zama ndosi app is offline again</td>\n",
       "    </tr>\n",
       "    <tr>\n",
       "      <th>59</th>\n",
       "      <td>meme pheladi phogole best bank ever 😍😍😍</td>\n",
       "    </tr>\n",
       "    <tr>\n",
       "      <th>60</th>\n",
       "      <td>cecilea van dyk app is offline again</td>\n",
       "    </tr>\n",
       "    <tr>\n",
       "      <th>61</th>\n",
       "      <td>mzi makate hi capitec every monthends i strugg...</td>\n",
       "    </tr>\n",
       "    <tr>\n",
       "      <th>62</th>\n",
       "      <td>cornflakes marlagy hello capiteci make online ...</td>\n",
       "    </tr>\n",
       "    <tr>\n",
       "      <th>63</th>\n",
       "      <td>winniefred coangae could you pls fix your app ...</td>\n",
       "    </tr>\n",
       "    <tr>\n",
       "      <th>64</th>\n",
       "      <td>sphesihle m mngomezulu ι canт even вυy aιrтιмe...</td>\n",
       "    </tr>\n",
       "    <tr>\n",
       "      <th>65</th>\n",
       "      <td>nthabiseng fortunate modiselle am not happy wi...</td>\n",
       "    </tr>\n",
       "    <tr>\n",
       "      <th>66</th>\n",
       "      <td>nkosana van cow hi i want to reverse a payment...</td>\n",
       "    </tr>\n",
       "    <tr>\n",
       "      <th>67</th>\n",
       "      <td>skhoh sonke i need a credit cardmrmiss capitec</td>\n",
       "    </tr>\n",
       "    <tr>\n",
       "      <th>68</th>\n",
       "      <td>motlokoa george want to apply for loan whats n...</td>\n",
       "    </tr>\n",
       "  </tbody>\n",
       "</table>\n",
       "<p>69 rows × 1 columns</p>\n",
       "</div>"
      ],
      "text/plain": [
       "                                           Complaints\n",
       "0   ngwane philani excellent hi i received  yester...\n",
       "1   tebatso matlou hi i havent deposited nothing f...\n",
       "2   xolisile maxoli mkhize when will it be possibl...\n",
       "3   daniel belteshazzar i received  in my account ...\n",
       "4   khabonina khabo again during this time my son ...\n",
       "5   ikeraam daniels i am gutted and utterly disapp...\n",
       "6   gugu lethu hi last month i withdraw money from...\n",
       "7   simon moeketsi is it possible to reverse the d...\n",
       "8   makaokuhle mapholoba i would like to open an c...\n",
       "9   itumeleng motau two weeks ago i replaced my ca...\n",
       "10  gadifele maureen hi i send money to someone wh...\n",
       "11  theodore mabunda so now we dont deposit money ...\n",
       "12  nolu ngxabazi can i change my fixed stop order...\n",
       "13  remofilwe mokgatlhe what documents do i need t...\n",
       "14  madelaine herbst what is your interest rate on...\n",
       "15  sbongs v ngxongo pls capitec make sure you hav...\n",
       "16  benedict sello tukula we have problems when we...\n",
       "17  nozipho ziphow sibiya i have unauthorized debi...\n",
       "18  sibongile dlamini good day yesterday around  s...\n",
       "19  percy sledge ndlovu capitec bank is it  per tr...\n",
       "20  onkgopotse monyatsi is it possible to pay mont...\n",
       "21  size nkosi yeerr on sunday i withdrawn  rand i...\n",
       "22  cizarh kamagatsheni mkhize i deposited money o...\n",
       "23  palesa makhubele i have fixed account so if ne...\n",
       "24  dineko mhlongo does capitec branch work on sunday\n",
       "25  wayne lottering do you get notifications for a...\n",
       "26  chris lotter capitec looks good on facebook un...\n",
       "27  nceba mtshizana fixed deposit saving of   for ...\n",
       "28  jabulani radebe your app is not responding and...\n",
       "29  phumeza mezza mackiby capitec in malvern jhb h...\n",
       "..                                                ...\n",
       "39  isabel sibanda i was using my app one of the d...\n",
       "40  rachel ndlovu did foreign with permit allowed ...\n",
       "41  veronica khumalo this bank those not do revers...\n",
       "42          alfie legoba what is it anyway lazy money\n",
       "43                 siphiwe c msiza what is lazy money\n",
       "44  ßlåq beltamo shärröll why capitac bank dont al...\n",
       "45  svumile omhlophe kamahlobo wat tim are you clo...\n",
       "46  phethile sambo i had send money from my sister...\n",
       "47  nosi majalamba shezi please help me what must ...\n",
       "48  nkosunaye ndlovu i took i loan via capitec and...\n",
       "49  ivakele ivah hi i have been depositing money t...\n",
       "50                       nem oath help help help help\n",
       "51  emma mohlala im no longer receive bank notific...\n",
       "52  sphesihle m mngomezulu тoday ι тrιed тo do cel...\n",
       "53               nodumo mbona please check your inbox\n",
       "54  chris madier ke client ya capitec a ke kgona g...\n",
       "55              thapelo mhlongo please fix your app😡😡\n",
       "56           pierre bezuidenhout app is offline again\n",
       "57  o zwe madoda izinja hi im zweli i was scammed ...\n",
       "58                   zama ndosi app is offline again \n",
       "59            meme pheladi phogole best bank ever 😍😍😍\n",
       "60               cecilea van dyk app is offline again\n",
       "61  mzi makate hi capitec every monthends i strugg...\n",
       "62  cornflakes marlagy hello capiteci make online ...\n",
       "63  winniefred coangae could you pls fix your app ...\n",
       "64  sphesihle m mngomezulu ι canт even вυy aιrтιмe...\n",
       "65  nthabiseng fortunate modiselle am not happy wi...\n",
       "66  nkosana van cow hi i want to reverse a payment...\n",
       "67     skhoh sonke i need a credit cardmrmiss capitec\n",
       "68  motlokoa george want to apply for loan whats n...\n",
       "\n",
       "[69 rows x 1 columns]"
      ]
     },
     "execution_count": 255,
     "metadata": {},
     "output_type": "execute_result"
    }
   ],
   "source": [
    "data_clean$Complaints <- gsub(\", \"\", data_clean$c1)"
   ]
  },
  {
   "cell_type": "markdown",
   "metadata": {},
   "source": [
    "\n",
    "# Organizing The Data\n",
    "I mentioned earlier that the output of this notebook will be clean, organized data in two standard text formats:\n",
    "\n",
    "Corpus - a collection of text\n",
    "Document-Term Matrix - word counts in matrix format\n",
    "#### Corpus\n",
    "The definition of a corpus is a collection of texts, and they are all put together neatly in a pandas dataframe here."
   ]
  },
  {
   "cell_type": "code",
   "execution_count": 225,
   "metadata": {},
   "outputs": [],
   "source": [
    "# Pickling data for later use"
   ]
  },
  {
   "cell_type": "code",
   "execution_count": 239,
   "metadata": {},
   "outputs": [],
   "source": [
    "\n",
    "# Let's pickle it for later use\n",
    "data_clean.to_pickle(\"corpus.pkl\")"
   ]
  },
  {
   "cell_type": "markdown",
   "metadata": {},
   "source": [
    "##  Document Matrics\n",
    "\n",
    "Document-Term Matrix\n",
    "For many of the techniques we'll be using in future notebooks, the text must be tokenized, meaning broken down into smaller pieces. The most common tokenization technique is to break down text into words. We can do this using scikit-learn's CountVectorizer, where every row will represent a different document and every column will represent a different word.\n",
    "\n",
    "In addition, with CountVectorizer, we can remove stop words. Stop words are common words that add no additional meaning to text such as 'a', 'the', etc."
   ]
  },
  {
   "cell_type": "code",
   "execution_count": 243,
   "metadata": {
    "scrolled": true
   },
   "outputs": [
    {
     "data": {
      "text/html": [
       "<div>\n",
       "<style scoped>\n",
       "    .dataframe tbody tr th:only-of-type {\n",
       "        vertical-align: middle;\n",
       "    }\n",
       "\n",
       "    .dataframe tbody tr th {\n",
       "        vertical-align: top;\n",
       "    }\n",
       "\n",
       "    .dataframe thead th {\n",
       "        text-align: right;\n",
       "    }\n",
       "</style>\n",
       "<table border=\"1\" class=\"dataframe\">\n",
       "  <thead>\n",
       "    <tr style=\"text-align: right;\">\n",
       "      <th></th>\n",
       "      <th>abroad</th>\n",
       "      <th>absa</th>\n",
       "      <th>acc</th>\n",
       "      <th>access</th>\n",
       "      <th>account</th>\n",
       "      <th>accountits</th>\n",
       "      <th>accumulate</th>\n",
       "      <th>activate</th>\n",
       "      <th>address</th>\n",
       "      <th>admin</th>\n",
       "      <th>...</th>\n",
       "      <th>вanĸιng</th>\n",
       "      <th>вυy</th>\n",
       "      <th>мoвιcel</th>\n",
       "      <th>мy</th>\n",
       "      <th>тo</th>\n",
       "      <th>тoday</th>\n",
       "      <th>тrιed</th>\n",
       "      <th>тнereѕ</th>\n",
       "      <th>ѕaιd</th>\n",
       "      <th>ѕυѕpended</th>\n",
       "    </tr>\n",
       "  </thead>\n",
       "  <tbody>\n",
       "    <tr>\n",
       "      <th>0</th>\n",
       "      <td>0</td>\n",
       "      <td>0</td>\n",
       "      <td>0</td>\n",
       "      <td>0</td>\n",
       "      <td>0</td>\n",
       "      <td>0</td>\n",
       "      <td>0</td>\n",
       "      <td>0</td>\n",
       "      <td>0</td>\n",
       "      <td>0</td>\n",
       "      <td>...</td>\n",
       "      <td>0</td>\n",
       "      <td>0</td>\n",
       "      <td>0</td>\n",
       "      <td>0</td>\n",
       "      <td>0</td>\n",
       "      <td>0</td>\n",
       "      <td>0</td>\n",
       "      <td>0</td>\n",
       "      <td>0</td>\n",
       "      <td>0</td>\n",
       "    </tr>\n",
       "    <tr>\n",
       "      <th>1</th>\n",
       "      <td>0</td>\n",
       "      <td>0</td>\n",
       "      <td>0</td>\n",
       "      <td>0</td>\n",
       "      <td>0</td>\n",
       "      <td>0</td>\n",
       "      <td>0</td>\n",
       "      <td>0</td>\n",
       "      <td>0</td>\n",
       "      <td>0</td>\n",
       "      <td>...</td>\n",
       "      <td>0</td>\n",
       "      <td>0</td>\n",
       "      <td>0</td>\n",
       "      <td>0</td>\n",
       "      <td>0</td>\n",
       "      <td>0</td>\n",
       "      <td>0</td>\n",
       "      <td>0</td>\n",
       "      <td>0</td>\n",
       "      <td>0</td>\n",
       "    </tr>\n",
       "    <tr>\n",
       "      <th>2</th>\n",
       "      <td>0</td>\n",
       "      <td>0</td>\n",
       "      <td>0</td>\n",
       "      <td>1</td>\n",
       "      <td>0</td>\n",
       "      <td>0</td>\n",
       "      <td>0</td>\n",
       "      <td>0</td>\n",
       "      <td>0</td>\n",
       "      <td>0</td>\n",
       "      <td>...</td>\n",
       "      <td>0</td>\n",
       "      <td>0</td>\n",
       "      <td>0</td>\n",
       "      <td>0</td>\n",
       "      <td>0</td>\n",
       "      <td>0</td>\n",
       "      <td>0</td>\n",
       "      <td>0</td>\n",
       "      <td>0</td>\n",
       "      <td>0</td>\n",
       "    </tr>\n",
       "    <tr>\n",
       "      <th>3</th>\n",
       "      <td>0</td>\n",
       "      <td>0</td>\n",
       "      <td>0</td>\n",
       "      <td>0</td>\n",
       "      <td>3</td>\n",
       "      <td>0</td>\n",
       "      <td>0</td>\n",
       "      <td>0</td>\n",
       "      <td>0</td>\n",
       "      <td>0</td>\n",
       "      <td>...</td>\n",
       "      <td>0</td>\n",
       "      <td>0</td>\n",
       "      <td>0</td>\n",
       "      <td>0</td>\n",
       "      <td>0</td>\n",
       "      <td>0</td>\n",
       "      <td>0</td>\n",
       "      <td>0</td>\n",
       "      <td>0</td>\n",
       "      <td>0</td>\n",
       "    </tr>\n",
       "    <tr>\n",
       "      <th>4</th>\n",
       "      <td>0</td>\n",
       "      <td>0</td>\n",
       "      <td>0</td>\n",
       "      <td>0</td>\n",
       "      <td>1</td>\n",
       "      <td>0</td>\n",
       "      <td>0</td>\n",
       "      <td>0</td>\n",
       "      <td>0</td>\n",
       "      <td>0</td>\n",
       "      <td>...</td>\n",
       "      <td>0</td>\n",
       "      <td>0</td>\n",
       "      <td>0</td>\n",
       "      <td>0</td>\n",
       "      <td>0</td>\n",
       "      <td>0</td>\n",
       "      <td>0</td>\n",
       "      <td>0</td>\n",
       "      <td>0</td>\n",
       "      <td>0</td>\n",
       "    </tr>\n",
       "  </tbody>\n",
       "</table>\n",
       "<p>5 rows × 638 columns</p>\n",
       "</div>"
      ],
      "text/plain": [
       "   abroad  absa  acc  access  account  accountits  accumulate  activate  \\\n",
       "0       0     0    0       0        0           0           0         0   \n",
       "1       0     0    0       0        0           0           0         0   \n",
       "2       0     0    0       1        0           0           0         0   \n",
       "3       0     0    0       0        3           0           0         0   \n",
       "4       0     0    0       0        1           0           0         0   \n",
       "\n",
       "   address  admin    ...      вanĸιng  вυy  мoвιcel  мy  тo  тoday  тrιed  \\\n",
       "0        0      0    ...            0    0        0   0   0      0      0   \n",
       "1        0      0    ...            0    0        0   0   0      0      0   \n",
       "2        0      0    ...            0    0        0   0   0      0      0   \n",
       "3        0      0    ...            0    0        0   0   0      0      0   \n",
       "4        0      0    ...            0    0        0   0   0      0      0   \n",
       "\n",
       "   тнereѕ  ѕaιd  ѕυѕpended  \n",
       "0       0     0          0  \n",
       "1       0     0          0  \n",
       "2       0     0          0  \n",
       "3       0     0          0  \n",
       "4       0     0          0  \n",
       "\n",
       "[5 rows x 638 columns]"
      ]
     },
     "execution_count": 243,
     "metadata": {},
     "output_type": "execute_result"
    }
   ],
   "source": [
    "import pandas as pd\n",
    "from sklearn.feature_extraction.text import CountVectorizer\n",
    "\n",
    "vec = CountVectorizer()\n",
    "X = vec.fit_transform(new_clean_com5)\n",
    "df = pd.DataFrame(X.toarray(), columns=vec.get_feature_names())\n",
    "df.head()"
   ]
  },
  {
   "cell_type": "code",
   "execution_count": 249,
   "metadata": {},
   "outputs": [
    {
     "name": "stdout",
     "output_type": "stream",
     "text": [
      "['ѕυѕpended', 'legoba', 'ke', 'keep', 'keletso', 'kgona', 'kgotsa', 'khabo', 'khabonina', 'khumalo', 'killing', 'knows', 'kudala', 'kuzoba', 'kwi', 'later', 'leli', 'gutted', 'less', 'lethu', 'lines', 'lona', 'longer', 'look', 'looking', 'looks', 'losing', 'lost', 'lotter', 'lottering', 'low', 'mabogwane', 'kamahlobo', 'kamagatsheni', 'jhb', 'jele', 'happen', 'happened', 'happens', 'hello', 'helped', 'herbst', 'hope', 'hunderd', 'ikeraam', 'ikgopoleng', 'iloan', 'imali', 'inbox', 'incident', 'inconvenient', 'increase', 'inside', 'installment', 'insurances', 'invistigation', 'isabel', 'istatement', 'itself', 'itumeleng', 'ivah', 'ivakele', 'ive', 'izinja', 'jabulani', 'mabunda', 'machine', 'mackiby', 'morning', 'motlokoa', 'msiza', 'mtshizana', 'mzi', 'naedo', 'nah', 'nam', 'name', 'nceba', 'ncilawololi', 'ndosi', 'nedbank', 'needed', 'nem', 'never', 'new', 'next', 'ngab', 'ngalahlekelwa', 'ngo', 'ngwane', 'ngxabazi', 'ngxongo', 'nkosana', 'nkosi', 'nkosunaye', 'nodumo', 'nokubonga', 'nolu', 'motau', 'monyatsi', 'made', 'monthends', 'madelaine', 'madier', 'madoda', 'majalamba', 'makaokuhle', 'makate', 'makhubele', 'mall', 'malvern', 'manje', 'many', 'mapholoba', 'marlagy', 'masimb', 'matlou', 'maureen', 'maxoli', 'mbona', 'member', 'meme', 'mezza', 'miellie', 'mistake', 'mobile', 'ѕaιd', 'moeketsi', 'mohlala', 'mokgatlhe', 'monday', 'guy', 'gugu', 'nosi', 'campbell', 'basenz', 'bath', 'bay', 'being', 'beltamo', 'belteshazzar', 'benedict', 'bengifakele', 'best', 'bezuidenhout', 'block', 'boikanyo', 'bronkhorstspruit', 'calvin', 'cancel', 'gues', 'cannot', 'canт', 'capetic', 'capitac', 'capiteci', 'card', 'cardmrmiss', 'cecilea', 'cellpнone', 'charge', 'charged', 'charging', 'cizarh', 'clarification', 'bartlet', 'banking', 'bankeng', 'balito', 'acc', 'access', 'accountits', 'accumulate', 'activate', 'address', 'admin', 'ago', 'agreed', 'alfie', 'all', 'allow', 'allowed', 'always', 'amount', 'anathi', 'angilifin', 'anything', 'anyway', 'apparently', 'ask', 'assistance', 'atmsnot', 'attempts', 'authorised', 'away', 'ax', 'aιrтιмe', 'baba', 'clients', 'closing', 'coangae', 'enabled', 'engaka', 'enough', 'enquire', 'errow', 'ever', 'example', 'excellent', 'fabian', 'facebook', 'fail', 'failed', 'flexi', 'flexible', 'foreign', 'forgot', 'fortunate', 'frustrated', 'frustrating', 'funds', 'funeral', 'gadifele', 'george', 'getting', 'goes', 'goin', 'going', 'gone', 'got', 'grant', 'end', 'emma', 'code', 'each', 'codes', 'collect', 'confuses', 'contacted', 'cornflakes', 'could', 'couldnt', 'cover', 'cow', 'cvv', 'daload', 'daniel', 'daniels', 'date', 'de', 'deducted', 'depositing', 'dialling', 'dineko', 'disability', 'dlamini', 'documents', 'doesnt', 'doti', 'dowskii', 'dr', 'due', 'during', 'dyk', 'nonkqubela', 'modiselle', 'abroad', 'shärröll', 'sibiya', 'sibongile', 'simon', 'since', 'siphiwe', 'wam', 'walking', 'sirbuja', 'sister', 'site', 'waisting', 'size', 'skhoh', 'skinny', 'sledge', 'sms', 'smss', 'voice', 'visited', 'veronica', 'vanished', 'sibanda', 'shows', 'sonke', 'shown', 'withdrawal', 'safe', 'winniefred', 'sambo', 'those', 'sassa', 'which', 'saturday', 'weeks', 'sbongs', 'wayne', 'scammed', 'score', 'sebedontsa', 'see', 'sello', 'waverley', 'service', 'sheleta', 'shezi', 'should', 'son', 'valuable', 'reversing', 'swift', 'trying', 'tebatso', 'tee', 'thapelo', 'try', 'trasfered', 'thatif', 'transaction', 'trade', 'towns', 'top', 'then', 'theodore', 'took', 'tomorrow', 'times', 'tim', 'theres', 'these', 'though', 'thier', 'tshwanetse', 'tuesday', 'squeaky', 'tukula', 'utterly', 'standard', 'started', 'useless', 'urgent', 'until', 'under', 'unauthorized', 'stolen', 'stressed', 'twala', 'struggle', 'student', 'studies', 'sucks', 'sum', 'turned', 'suppose', 'sure', 'suspended', 'svumile', 'rubbed', 'things', 'pensioner', 'payable', 'payment', 'ok', 'мy', 'withdraws', 'per', 'percy', 'yes', 'permit', 'yeerr', 'тo', 'year', 'pheladi', 'ye', 'phethile', 'philani', 'phogole', 'тoday', 'omhlophe', 'yini', 'oath', 'мoвιcel', 'orders', 'other', 'ßlåq', 'ziphow', 'zip', 'zama', 'ιт', 'yona', 'yon', 'paid', 'ιѕ', 'palesa', 'вanĸιng', 'particular', 'past', 'onkgopotse', 'вυy', 'zwe', 'ya', 'xolisile', 'remofilwe', 'reboot', 'without', 'nowwwww', 'reflected', 'refund', 'nowubon', 'refunded', 'replaced', 'phones', 'replacement', 'reply', 'reported', 'тнereѕ', 'responding', 'rest', 'reversal', 'rate', 'wont', 'zweli', 'problem', 'pierre', 'pin', 'numberits', 'number', 'ntswalo', 'ntswa', 'radebe', 'numerous', 'phumeza', 'problems', 'purchase', 'тrιed', 'nthabiseng', 'put', 'rachel', 'nozipho', 'absa', 'disappointed', 'does', 'till', 'withdrawn', 'also', 'debit', 'before', 'branches', 'whats', 'week', 'because', 'wat', 'work', 'change', 'working', 'would', 'wrong', 'wнaт', 'balance', 'chris', 'wait', 'years', 'via', 'come', 'van', 'atms', 'yesterday', 'as', 'around', 'apply', 'two', 'day', 'another', 'bring', 'notifications', 'last', 'open', 'sunday', 'had', 'period', 'stop', 'happy', 'has', 'saving', 'havent', 'still', 'months', 'says', 'knowledge', 'lazy', 'pay', 'more', 'sphesihle', 'if', 'something', 'our', 'she', 'someone', 'out', 'over', 'much', 'mngomezulu', 'into', 'forex', 'friday', 'fix', 'no', 'receive', 'them', 'rand', 'mhlongo', 'make', 'person', 'said', 'extra', 'than', 'take', 'online', 'every', 'mkhize', 'matter', 'be', 'possible', 'just', 'same', 'received', 'long', 'must', 'monthly', 'withdraw', 'will', 'who', 'by', 'go', 'very', 'deposited', 'ndlovu', 'there', 'time', 'find', 'today', 'told', 'off', 'one', 'did', 'give', 'nothing', 'interest', 'only', 'good', 'plz', 'credit', 'client', 'an', 'pls', 'again', 'they', 'its', 'want', 'back', 'order', 'know', 'after', 'why', 'didnt', 'are', 'or', 'using', 'use', 'went', 'us', 'days', 'check', 'need', 'month', 'offline', 'phone', 'now', 'at', 'this', 'where', 'even', 'deposit', 'reverse', 'loan', 'like', 'im', 'cant', 'dont', 'fixed', 'we', 'am', 'help', 'please', 'so', 'but', 'branch', 'from', 'me', 'send', 'in', 'with', 'been', 'hi', 'atm', 'when', 'get', 'of', 'not', 'account', 'your', 'what', 'you', 'was', 'bank', 'can', 'have', 'how', 'on', 'that', 'do', 'app', 'for', 'capitec', 'my', 'it', 'is', 'money', 'the', 'and', 'to']\n"
     ]
    }
   ],
   "source": [
    "from sklearn.feature_extraction.text import TfidfVectorizer\n",
    "import numpy as np\n",
    "\n",
    "lectures=new_clean_com5\n",
    "vectorizer = TfidfVectorizer()\n",
    "X = vectorizer.fit_transform(lectures)\n",
    "indices = np.argsort(vectorizer.idf_)[::-1]\n",
    "features = vectorizer.get_feature_names()\n",
    "top_n = 800\n",
    "top_features = [features[i] for i in indices[:top_n]]\n",
    "print (top_features)"
   ]
  },
  {
   "cell_type": "code",
   "execution_count": null,
   "metadata": {},
   "outputs": [],
   "source": []
  }
 ],
 "metadata": {
  "kernelspec": {
   "display_name": "Python 3",
   "language": "python",
   "name": "python3"
  },
  "language_info": {
   "codemirror_mode": {
    "name": "ipython",
    "version": 3
   },
   "file_extension": ".py",
   "mimetype": "text/x-python",
   "name": "python",
   "nbconvert_exporter": "python",
   "pygments_lexer": "ipython3",
   "version": "3.6.5"
  }
 },
 "nbformat": 4,
 "nbformat_minor": 2
}
